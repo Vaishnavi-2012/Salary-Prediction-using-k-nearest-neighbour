{
 "cells": [
  {
   "cell_type": "markdown",
   "id": "b0089d75",
   "metadata": {},
   "source": [
    "## SALARY PREDICTION USING K-NEAREST NEIGHBOUR\n",
    "    "
   ]
  },
  {
   "cell_type": "markdown",
   "id": "f1e28adb",
   "metadata": {},
   "source": [
    "### Load and Summarize the dataset"
   ]
  },
  {
   "cell_type": "code",
   "execution_count": null,
   "id": "06b8fff6",
   "metadata": {},
   "outputs": [],
   "source": [
    "import numpy as np\n",
    "import pandas as pd"
   ]
  },
  {
   "cell_type": "code",
   "execution_count": null,
   "id": "a5f17582",
   "metadata": {},
   "outputs": [],
   "source": [
    "import os\n",
    "working_directory = os.getcwd()\n",
    "print(working_directory)"
   ]
  },
  {
   "cell_type": "code",
   "execution_count": 23,
   "id": "3dd1a22c",
   "metadata": {},
   "outputs": [],
   "source": [
    "path = working_directory + '/Downloads/Telegram Desktop/salary.csv' \n",
    "df=pd.read_csv(path)"
   ]
  },
  {
   "cell_type": "code",
   "execution_count": 24,
   "id": "498fc873",
   "metadata": {},
   "outputs": [
    {
     "name": "stdout",
     "output_type": "stream",
     "text": [
      "(32561, 5)\n",
      "   age  education.num  capital.gain  hours.per.week income\n",
      "0   90              9             0              40  <=50K\n",
      "1   82              9             0              18  <=50K\n",
      "2   66             10             0              40  <=50K\n",
      "3   54              4             0              40  <=50K\n",
      "4   41             10             0              40  <=50K\n",
      "       age  education.num  capital.gain  hours.per.week income\n",
      "32556   22             10             0              40  <=50K\n",
      "32557   27             12             0              38  <=50K\n",
      "32558   40              9             0              40   >50K\n",
      "32559   58              9             0              40  <=50K\n",
      "32560   22              9             0              20  <=50K\n"
     ]
    }
   ],
   "source": [
    "print(df.shape)\n",
    "print(df.head(5))\n",
    "print(df.tail(5))"
   ]
  },
  {
   "cell_type": "markdown",
   "id": "641e108a",
   "metadata": {},
   "source": [
    "### Mapping Data from text to Binary numbers "
   ]
  },
  {
   "cell_type": "code",
   "execution_count": 25,
   "id": "2aa145b2",
   "metadata": {},
   "outputs": [
    {
     "name": "stdout",
     "output_type": "stream",
     "text": [
      "<bound method NDFrame.head of        age  education.num  capital.gain  hours.per.week  income\n",
      "0       90              9             0              40       0\n",
      "1       82              9             0              18       0\n",
      "2       66             10             0              40       0\n",
      "3       54              4             0              40       0\n",
      "4       41             10             0              40       0\n",
      "...    ...            ...           ...             ...     ...\n",
      "32556   22             10             0              40       0\n",
      "32557   27             12             0              38       0\n",
      "32558   40              9             0              40       1\n",
      "32559   58              9             0              40       0\n",
      "32560   22              9             0              20       0\n",
      "\n",
      "[32561 rows x 5 columns]>\n"
     ]
    }
   ],
   "source": [
    "income_set = set(df['income'])\n",
    "df['income'] = df['income'].map({'<=50K': 0, '>50K': 1}).astype(int)\n",
    "print(df.head)"
   ]
  },
  {
   "cell_type": "markdown",
   "id": "2cc03d44",
   "metadata": {},
   "source": [
    "### Segragate the date in to X and y depending on independent and dependent variable"
   ]
  },
  {
   "cell_type": "code",
   "execution_count": 48,
   "id": "3370d2b8",
   "metadata": {},
   "outputs": [
    {
     "data": {
      "text/plain": [
       "array([[90,  9,  0, 40],\n",
       "       [82,  9,  0, 18],\n",
       "       [66, 10,  0, 40],\n",
       "       ...,\n",
       "       [40,  9,  0, 40],\n",
       "       [58,  9,  0, 40],\n",
       "       [22,  9,  0, 20]], dtype=int64)"
      ]
     },
     "execution_count": 48,
     "metadata": {},
     "output_type": "execute_result"
    }
   ],
   "source": [
    "X = df.iloc[:,:-1].values\n",
    "X"
   ]
  },
  {
   "cell_type": "code",
   "execution_count": 49,
   "id": "acfbd3e1",
   "metadata": {},
   "outputs": [
    {
     "data": {
      "text/plain": [
       "array([0, 0, 0, ..., 1, 0, 0])"
      ]
     },
     "execution_count": 49,
     "metadata": {},
     "output_type": "execute_result"
    }
   ],
   "source": [
    "Y=df.iloc[:, -1].values\n",
    "Y"
   ]
  },
  {
   "cell_type": "markdown",
   "id": "3745aca3",
   "metadata": {},
   "source": [
    "### Splitting dataset in to train and test"
   ]
  },
  {
   "cell_type": "code",
   "execution_count": 28,
   "id": "66621b93",
   "metadata": {},
   "outputs": [],
   "source": [
    "from sklearn.model_selection import train_test_split\n",
    "X_train, X_test, y_train, y_test= train_test_split(X,Y,test_size=0.25, random_state=0)"
   ]
  },
  {
   "cell_type": "markdown",
   "id": "a281eca7",
   "metadata": {},
   "source": [
    "### Feature scaling"
   ]
  },
  {
   "cell_type": "code",
   "execution_count": null,
   "id": "7bc177df",
   "metadata": {},
   "outputs": [],
   "source": [
    "from sklearn.preprocessing import StandardScaler\n",
    "sc=StandardScaler()\n",
    "X_train=sc.fit_transform(X_train)\n",
    "X_test=sc.transform(X_test)"
   ]
  },
  {
   "cell_type": "markdown",
   "id": "fdd39ee1",
   "metadata": {},
   "source": [
    "### Algorithm - K-NEAREST NEIGHBOUR - >Classifier -> based on minkonwski distance matrix -> Euclidean =2 or Manhattan = 1 distance"
   ]
  },
  {
   "cell_type": "markdown",
   "id": "a0999e04",
   "metadata": {},
   "source": [
    "### Finding the best k value - > get least mean error"
   ]
  },
  {
   "cell_type": "code",
   "execution_count": 42,
   "id": "dd8540a3",
   "metadata": {},
   "outputs": [
    {
     "data": {
      "text/plain": [
       "Text(0, 0.5, 'Mean Error')"
      ]
     },
     "execution_count": 42,
     "metadata": {},
     "output_type": "execute_result"
    },
    {
     "data": {
      "image/png": "[encoded data removed]",
      "text/plain": [
       "<Figure size 864x432 with 1 Axes>"
      ]
     },
     "metadata": {
      "needs_background": "light"
     },
     "output_type": "display_data"
    }
   ],
   "source": [
    "error=[]\n",
    "from sklearn.neighbors import KNeighborsClassifier\n",
    "import matplotlib.pyplot as plt\n",
    "\n",
    "for i in range(1,40):\n",
    "  model=KNeighborsClassifier(n_neighbors=i)\n",
    "  model.fit(X_train,y_train)\n",
    "  predat_i= model.predict(X_test)\n",
    "  error.append(np.mean(predat_i != y_test))\n",
    "\n",
    "\n",
    "plt.figure(figsize=(12,6))\n",
    "plt.plot(range(1, 40), error, color='red', linestyle='dashed', marker='o',\n",
    "         markerfacecolor='blue', markersize=10)\n",
    "plt.title('Error rate K-value')\n",
    "plt.xlabel('K-value')\n",
    "plt.ylabel('Mean Error')"
   ]
  },
  {
   "cell_type": "markdown",
   "id": "e0e8ee3a",
   "metadata": {},
   "source": [
    "### Training"
   ]
  },
  {
   "cell_type": "code",
   "execution_count": 43,
   "id": "7d58a2a4",
   "metadata": {},
   "outputs": [
    {
     "data": {
      "text/plain": [
       "KNeighborsClassifier(n_neighbors=16)"
      ]
     },
     "execution_count": 43,
     "metadata": {},
     "output_type": "execute_result"
    }
   ],
   "source": [
    "from sklearn.neighbors import KNeighborsClassifier\n",
    "model = KNeighborsClassifier(n_neighbors=16, metric='minkowski', p=2)\n",
    "model.fit(X_train,y_train)"
   ]
  },
  {
   "cell_type": "markdown",
   "id": "e23bcc26",
   "metadata": {},
   "source": [
    "### Predicting the salary"
   ]
  },
  {
   "cell_type": "code",
   "execution_count": 47,
   "id": "a2720607",
   "metadata": {},
   "outputs": [
    {
     "name": "stdout",
     "output_type": "stream",
     "text": [
      "Enter age :40\n",
      "Enter Education :12\n",
      "Capital Gain :40000\n",
      "Working hours per week  :48\n",
      "Employee might got salary above 50k\n"
     ]
    }
   ],
   "source": [
    "age = int(input('Enter age :'))\n",
    "edu = int(input('Enter Education :'))\n",
    "cg = int(input('Capital Gain :'))\n",
    "wh = int(input('Working hours per week  :'))\n",
    "\n",
    "newEmp = [[age,edu,cg,wh]]\n",
    "result = model.predict(sc.transform(newEmp))\n",
    "\n",
    "if result:\n",
    "    print(\"Employee might got salary above 50k\")\n",
    "else:\n",
    "    print(\"Employee might not got salary above 50k\")"
   ]
  },
  {
   "cell_type": "markdown",
   "id": "564892af",
   "metadata": {},
   "source": [
    "### Predicting for all test data"
   ]
  },
  {
   "cell_type": "code",
   "execution_count": 45,
   "id": "f6d35275",
   "metadata": {},
   "outputs": [
    {
     "name": "stdout",
     "output_type": "stream",
     "text": [
      "[[0 0]\n",
      " [0 0]\n",
      " [0 0]\n",
      " ...\n",
      " [0 0]\n",
      " [0 0]\n",
      " [0 0]]\n"
     ]
    }
   ],
   "source": [
    "y_pred=model.predict(X_test)\n",
    "print(np.concatenate((y_pred.reshape(len(y_pred),1), y_test.reshape(len(y_test),1)),1))"
   ]
  },
  {
   "cell_type": "markdown",
   "id": "edfbc79c",
   "metadata": {},
   "source": [
    "### Evaluating Model , confusion model and accurary score"
   ]
  },
  {
   "cell_type": "code",
   "execution_count": 46,
   "id": "2be386cd",
   "metadata": {},
   "outputs": [
    {
     "name": "stdout",
     "output_type": "stream",
     "text": [
      "Confusin matrix for the predicted output is:\n",
      "[[5865  328]\n",
      " [1177  771]]\n",
      "Accuracy of the model made is: 81.51332760103182%\n"
     ]
    }
   ],
   "source": [
    "from sklearn.metrics import confusion_matrix , accuracy_score\n",
    "cm=confusion_matrix(y_test,y_pred)\n",
    "print(\"Confusin matrix for the predicted output is:\")\n",
    "print(cm)\n",
    "print(\"Accuracy of the model made is: {0}%\".format(accuracy_score(y_test,y_pred)*100))"
   ]
  }
 ],
 "metadata": {
  "kernelspec": {
   "display_name": "Python 3 (ipykernel)",
   "language": "python",
   "name": "python3"
  },
  "language_info": {
   "codemirror_mode": {
    "name": "ipython",
    "version": 3
   },
   "file_extension": ".py",
   "mimetype": "text/x-python",
   "name": "python",
   "nbconvert_exporter": "python",
   "pygments_lexer": "ipython3",
   "version": "3.9.7"
  }
 },
 "nbformat": 4,
 "nbformat_minor": 5
}
